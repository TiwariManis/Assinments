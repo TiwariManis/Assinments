{
 "cells": [
  {
   "cell_type": "markdown",
   "metadata": {},
   "source": [
    "# Programming Assignment-8"
   ]
  },
  {
   "cell_type": "code",
   "execution_count": 3,
   "metadata": {},
   "outputs": [
    {
     "name": "stdout",
     "output_type": "stream",
     "text": [
      "[5, 7, 9]\n",
      "[7, 7, 10]\n",
      "[10, 12, 14]\n"
     ]
    }
   ],
   "source": [
    "#Q1. Write a Python Program to Add Two Matrices.\n",
    "\n",
    "a = [[1,2,3],[4 ,5,6],[7,8,9]]\n",
    "\n",
    "b = [[4,5,6],[3,2,4],[3,4,5]]\n",
    "\n",
    "addition = [[0,0,0],[0,0,0],[0,0,0]]\n",
    "\n",
    "# iterate through rows\n",
    "\n",
    "for i in range(len(a)):\n",
    "   # iterate through columns\n",
    "\n",
    "   for j in range(len(b[0])):\n",
    "        addition[i][j] = a[i][j] + b[i][j]\n",
    "\n",
    "for r in addition:\n",
    "    print(r)"
   ]
  },
  {
   "cell_type": "code",
   "execution_count": 4,
   "metadata": {},
   "outputs": [
    {
     "name": "stdout",
     "output_type": "stream",
     "text": [
      "[4, 10, 18]\n",
      "[12, 10, 24]\n",
      "[21, 32, 45]\n"
     ]
    }
   ],
   "source": [
    "#Q2. Write a Python Program to Multiply Two Matrices.\n",
    "\n",
    "a = [[1,2,3],[4 ,5,6],[7,8,9]]\n",
    "\n",
    "b = [[4,5,6],[3,2,4],[3,4,5]]\n",
    "\n",
    "mul = [[0,0,0],[0,0,0],[0,0,0]]\n",
    "\n",
    "# iterate through rows\n",
    "\n",
    "for i in range(len(a)):\n",
    "   # iterate through columns\n",
    "\n",
    "   for j in range(len(b[0])):\n",
    "        mul[i][j] = a[i][j] * b[i][j]\n",
    "\n",
    "for r in mul:\n",
    "    print(r)"
   ]
  },
  {
   "cell_type": "code",
   "execution_count": 39,
   "metadata": {},
   "outputs": [
    {
     "name": "stdout",
     "output_type": "stream",
     "text": [
      "[10, 33, 34]\n",
      "[11, 45, 47]\n"
     ]
    }
   ],
   "source": [
    "#Q3. Write a Python Program to Transpose a Matrix\n",
    "\n",
    "a = [[10,11],[33,45],[34,47]]\n",
    "\n",
    "transpose = [[0,0,0],[0,0,0]]\n",
    "\n",
    "for i in range(len(a)):\n",
    "    for j in range(len(a[0])):\n",
    "        transpose[j][i] = a[i][j]\n",
    "        \n",
    "for k in transpose:\n",
    "    print(k)"
   ]
  },
  {
   "cell_type": "code",
   "execution_count": 50,
   "metadata": {},
   "outputs": [
    {
     "name": "stdout",
     "output_type": "stream",
     "text": [
      "Please enter the string : Hello my name is Manish kumar. joined iNeuron full stack batch\n",
      "BATCH\n",
      "FULL\n",
      "HELLO\n",
      "INEURON\n",
      "IS\n",
      "JOINED\n",
      "KUMAR.\n",
      "MANISH\n",
      "MY\n",
      "NAME\n",
      "STACK\n"
     ]
    }
   ],
   "source": [
    "#Q4. Write a Python Program to Sort Words in Alphabetic Order.\n",
    "\n",
    "string =  input(\"Please enter the string : \") #\"Hello my name is Manish kumar. joined iNeuron full stack batch\"\n",
    "\n",
    "lst =[word.upper() for word in string.split()]\n",
    "\n",
    "lst.sort()\n",
    "\n",
    "for word in lst:\n",
    "    print(word)"
   ]
  },
  {
   "cell_type": "code",
   "execution_count": 55,
   "metadata": {},
   "outputs": [
    {
     "name": "stdout",
     "output_type": "stream",
     "text": [
      "Please enter a string : Manish@Bangalore!\n",
      "ManishBangalore\n"
     ]
    }
   ],
   "source": [
    "#Q5. Write a Python Program to Remove Punctuation From a String.\n",
    "\n",
    "punctuations = '''!()-[]{};:'\"\\,<>./?@#$%^&*_~'''\n",
    "\n",
    "string = input(\"Please enter a string : \")\n",
    "new_string = \"\"\n",
    "for i in string:\n",
    "    if i not in punctuations:\n",
    "        new_string += i\n",
    "print(new_string)"
   ]
  },
  {
   "cell_type": "code",
   "execution_count": null,
   "metadata": {},
   "outputs": [],
   "source": []
  }
 ],
 "metadata": {
  "kernelspec": {
   "display_name": "Python 3",
   "language": "python",
   "name": "python3"
  },
  "language_info": {
   "codemirror_mode": {
    "name": "ipython",
    "version": 3
   },
   "file_extension": ".py",
   "mimetype": "text/x-python",
   "name": "python",
   "nbconvert_exporter": "python",
   "pygments_lexer": "ipython3",
   "version": "3.8.5"
  }
 },
 "nbformat": 4,
 "nbformat_minor": 4
}
