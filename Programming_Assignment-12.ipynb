{
 "cells": [
  {
   "cell_type": "markdown",
   "metadata": {},
   "source": [
    "# Programming_Assignment-12"
   ]
  },
  {
   "cell_type": "code",
   "execution_count": 1,
   "metadata": {},
   "outputs": [
    {
     "name": "stdout",
     "output_type": "stream",
     "text": [
      "Unique Values =  [8, 1, 2, 4]\n"
     ]
    }
   ],
   "source": [
    "#Q1 Write a Python program to Extract Unique values dictionary values.\n",
    "\n",
    "myDict = {'Scala': 2, 'Javascript': 1, 'Python': 8, 'C++': 1, 'Java': 4}\n",
    "\n",
    "uniqueValues = list({val for val in myDict.values()})\n",
    "\n",
    "print(\"Unique Values = \", uniqueValues)"
   ]
  },
  {
   "cell_type": "code",
   "execution_count": 17,
   "metadata": {},
   "outputs": [
    {
     "name": "stdout",
     "output_type": "stream",
     "text": [
      "Sum of dictionary values : 14\n"
     ]
    }
   ],
   "source": [
    "#Q2. Write a Python program to find the sum of all items in a dictionary\n",
    "\n",
    "\n",
    "def Sum(myDict):\n",
    "    sum_ = 0\n",
    "    \n",
    "    for i in myDict:\n",
    "        sum_ = sum_ + myDict[i]\n",
    "    return sum_\n",
    "\n",
    "dict = {'T': 1, 'U':2, 'T':3, 'O':4, 'R':5}\n",
    "print(\"Sum of dictionary values :\", Sum(dict))\n"
   ]
  },
  {
   "cell_type": "code",
   "execution_count": 18,
   "metadata": {},
   "outputs": [
    {
     "name": "stdout",
     "output_type": "stream",
     "text": [
      "The updated dictionary is :\n",
      " {'Name': 'Manish', 'Place': 'Bangalore', 'Course': 'FullStack', 'org': 'iNeuron'}\n"
     ]
    }
   ],
   "source": [
    "#Q3. Write a Python program to Merging two Dictionaries.\n",
    "\n",
    "Dict1 = {\"Name\": \"Manish\", \"Place\": \"Bangalore\"}\n",
    "Dict2 = {\"Course\":\"FullStack\", \"org\": \"iNeuron\"}\n",
    "\n",
    "new_dict = {**Dict1,**Dict2}\n",
    "print(\"The updated dictionary is :\\n\", new_dict)"
   ]
  },
  {
   "cell_type": "code",
   "execution_count": 4,
   "metadata": {},
   "outputs": [
    {
     "name": "stdout",
     "output_type": "stream",
     "text": [
      "The original dictionary is : {'month': [1, 2, 3], 'name': ['Jan', 'Feb', 'March']}\n",
      "Flattened dictionary : {1: 'Jan', 2: 'Feb', 3: 'March'}\n"
     ]
    }
   ],
   "source": [
    "#Q4. Write a Python program to convert key-values list to flat dictionary.\n",
    "\n",
    "dict_ = {'month' : [1, 2, 3],\n",
    "             'name' : ['Jan', 'Feb', 'March']}\n",
    "  \n",
    "# original dictionary\n",
    "print(\"The original dictionary is : \" + str(dict_))\n",
    "  \n",
    "# Convert key-values list to flat dictionary\n",
    "# Using dict() + zip()\n",
    "res = dict(zip(dict_['month'], dict_['name']))\n",
    "  \n",
    "# printing result \n",
    "print(\"Flattened dictionary : \" + str(res))"
   ]
  },
  {
   "cell_type": "code",
   "execution_count": 5,
   "metadata": {},
   "outputs": [
    {
     "name": "stdout",
     "output_type": "stream",
     "text": [
      "Ordered Dictionary after insertion : OrderedDict([('Jan', '1'), ('Feb', '2'), ('Mar', '3')])\n"
     ]
    }
   ],
   "source": [
    "#Q5. Write a Python program to insertion at the beginning in OrderedDict.\n",
    "\n",
    "from collections import OrderedDict\n",
    "  \n",
    "# initialising ordered_dict\n",
    "iniordered_dict = OrderedDict([('Feb', '2'), ('Mar', '3')])\n",
    "  \n",
    "# inserting items in starting of dict \n",
    "iniordered_dict.update({'Jan':'1'})\n",
    "iniordered_dict.move_to_end('Jan', last = False)\n",
    "  \n",
    "# print result\n",
    "print (\"Ordered Dictionary after insertion : \"+str(iniordered_dict))"
   ]
  },
  {
   "cell_type": "code",
   "execution_count": 6,
   "metadata": {},
   "outputs": [
    {
     "name": "stdout",
     "output_type": "stream",
     "text": [
      "enter string : ineuron\n",
      "Enter Pattern : eu\n",
      "OrderedDict([('i', None), ('n', None), ('e', None), ('u', None), ('r', None), ('o', None)])\n",
      "Pattern matched\n"
     ]
    }
   ],
   "source": [
    "#Q6. Write a Python program to check order of character in string using OrderedDict().\n",
    "\n",
    "from collections import OrderedDict \n",
    "  \n",
    "def checkOrderofString(str, pattern): \n",
    "      \n",
    "    # create empty OrderedDict \n",
    "    dict = OrderedDict.fromkeys(str) \n",
    "    print(dict)   \n",
    "    ptrlen = 0\n",
    "    for key,value in dict.items(): \n",
    "        \n",
    "        if (key == pattern[ptrlen]): \n",
    "            ptrlen = ptrlen + 1\n",
    "          \n",
    "        # check if we have traverse complete pattern string \n",
    "        if (ptrlen == (len(pattern))):            \n",
    "            return 'true'\n",
    "  \n",
    "    # if we come out from for loop that means order was mismatched \n",
    "    return 'false'\n",
    "  \n",
    "\n",
    "string = input(\"enter string : \")\n",
    "pattern = input(\"Enter Pattern : \")\n",
    "if checkOrderofString(string,pattern):\n",
    "    print(\"Pattern matched\")\n",
    "else:\n",
    "    print(\"Pattern not matched\")"
   ]
  },
  {
   "cell_type": "code",
   "execution_count": 10,
   "metadata": {},
   "outputs": [
    {
     "name": "stdout",
     "output_type": "stream",
     "text": [
      "Keys:\n",
      "[1, 2, 3, 4, 5, 6]\n",
      "items:\n",
      "[(1, 2), (2, 1), (3, 4), (4, 3), (5, 6), (6, 5)]\n",
      "Values:\n",
      "[1, 2, 3, 4, 5, 6]\n"
     ]
    }
   ],
   "source": [
    "#Q7. Write a Python program to sort Python Dictionaries by Key or Value.\n",
    "\n",
    "dict_2 = {1:2 ,2:1 ,4:3 ,3:4 ,6:5 ,5:6 }\n",
    "\n",
    "#this will print a sorted list of the keys\n",
    "print(\"Keys:\")\n",
    "print(sorted(dict_2.keys()))\n",
    "\n",
    "#this will print the sorted list with items.\n",
    "print(\"items:\")\n",
    "print(sorted(dict_2.items()))\n",
    "\n",
    "#this will print a sorted list of values.\n",
    "print(\"Values:\")\n",
    "print(sorted(dict_2.values()))\n",
    "\n"
   ]
  },
  {
   "cell_type": "code",
   "execution_count": null,
   "metadata": {},
   "outputs": [],
   "source": []
  }
 ],
 "metadata": {
  "kernelspec": {
   "display_name": "Python 3",
   "language": "python",
   "name": "python3"
  },
  "language_info": {
   "codemirror_mode": {
    "name": "ipython",
    "version": 3
   },
   "file_extension": ".py",
   "mimetype": "text/x-python",
   "name": "python",
   "nbconvert_exporter": "python",
   "pygments_lexer": "ipython3",
   "version": "3.8.5"
  }
 },
 "nbformat": 4,
 "nbformat_minor": 4
}
