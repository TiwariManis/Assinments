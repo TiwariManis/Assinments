{
 "cells": [
  {
   "cell_type": "markdown",
   "metadata": {},
   "source": [
    "1. [] is empty list value which contains no items."
   ]
  },
  {
   "cell_type": "code",
   "execution_count": 5,
   "metadata": {
    "scrolled": true
   },
   "outputs": [
    {
     "name": "stdout",
     "output_type": "stream",
     "text": [
      "[2, 4, 6, 8, 10, 'hello']\n"
     ]
    }
   ],
   "source": [
    "# 2.\n",
    "\n",
    "spam= [2, 4, 6, 8, 10]\n",
    "spam1 = [\"hello\"]\n",
    "\n",
    "print(spam + spam1)"
   ]
  },
  {
   "cell_type": "code",
   "execution_count": 6,
   "metadata": {},
   "outputs": [],
   "source": [
    "spam = ['a','b','c','d']\n"
   ]
  },
  {
   "cell_type": "code",
   "execution_count": 7,
   "metadata": {},
   "outputs": [
    {
     "data": {
      "text/plain": [
       "8"
      ]
     },
     "execution_count": 7,
     "metadata": {},
     "output_type": "execute_result"
    }
   ],
   "source": [
    "#3\n",
    "spam[int(int('3' * 2) / 11)]"
   ]
  },
  {
   "cell_type": "markdown",
   "metadata": {},
   "source": [
    "4. Negative indexes count from the end."
   ]
  },
  {
   "cell_type": "code",
   "execution_count": 22,
   "metadata": {},
   "outputs": [],
   "source": [
    "#5\n",
    "spam = ['a','b','c','d']"
   ]
  },
  {
   "cell_type": "code",
   "execution_count": 23,
   "metadata": {},
   "outputs": [
    {
     "data": {
      "text/plain": [
       "['a', 'b']"
      ]
     },
     "execution_count": 23,
     "metadata": {},
     "output_type": "execute_result"
    }
   ],
   "source": [
    "spam[:2]"
   ]
  },
  {
   "cell_type": "code",
   "execution_count": 65,
   "metadata": {},
   "outputs": [
    {
     "name": "stdout",
     "output_type": "stream",
     "text": [
      "[3.14, 'cat', 11, 'cat', True]\n",
      "[3.14, 'cat', 11, 'cat', True, 99]\n",
      "[3.14, 11, 'cat', True, 99]\n"
     ]
    }
   ],
   "source": [
    "bacon = [3.14,'cat',11,'cat',True]\n",
    "\n",
    "#6\n",
    "bacon.index('cat')\n",
    "print(bacon)\n",
    "\n",
    "#7\n",
    "bacon.append(99)\n",
    "print(bacon)\n",
    "\n",
    "#8\n",
    "bacon.remove('cat')\n",
    "print(bacon)"
   ]
  },
  {
   "cell_type": "markdown",
   "metadata": {},
   "source": [
    "9. The operator for list concatenation is +, \n",
    "   the operator for replication is *."
   ]
  },
  {
   "cell_type": "markdown",
   "metadata": {},
   "source": [
    "10. append() will add values only to the end of a list\n",
    "where as insert() can add the value anywhere in the list."
   ]
  },
  {
   "cell_type": "markdown",
   "metadata": {},
   "source": [
    "11. below are the two method to remove item from list.\n",
    "     \n",
    "         (i) del statement (ii) remove() ."
   ]
  },
  {
   "cell_type": "markdown",
   "metadata": {},
   "source": [
    "12. (i) Both are having indexes and slices.\n",
    "    (ii) Can be used in for loops.\n",
    "    (iii)Can be concatinated and replicated.\n",
    "    (iv) len() can be used for both."
   ]
  },
  {
   "cell_type": "markdown",
   "metadata": {},
   "source": [
    "13.\n",
    "\n",
    "List: i. Lists are mutable\n",
    "      ii.value Can be added,removed or changed.\n",
    "      iii. List are written using the [].\n",
    "\n",
    "Tuples: i. immutable\n",
    "        ii. value can not be changed.\n",
    "        iii. tuple are written using Parentheses.\n",
    "        \n",
    "      "
   ]
  },
  {
   "cell_type": "markdown",
   "metadata": {},
   "source": [
    "14. (42,)"
   ]
  },
  {
   "cell_type": "markdown",
   "metadata": {},
   "source": [
    "15. Both the functions are similar.\n",
    "    tuple() & list() ."
   ]
  },
  {
   "cell_type": "markdown",
   "metadata": {},
   "source": [
    "16. contain references to list values."
   ]
  },
  {
   "cell_type": "markdown",
   "metadata": {},
   "source": [
    "17. copy.copy(): it will first construct new collection object and then populate with copies of  child object.\n",
    "            \n",
    "    copy.deepcopy(): A copy of object is copied in other object. it means that if any cahnges \n",
    "     made to  a copy of object do not reflect in the original object."
   ]
  },
  {
   "cell_type": "markdown",
   "metadata": {},
   "source": []
  }
 ],
 "metadata": {
  "kernelspec": {
   "display_name": "Python 3",
   "language": "python",
   "name": "python3"
  },
  "language_info": {
   "codemirror_mode": {
    "name": "ipython",
    "version": 3
   },
   "file_extension": ".py",
   "mimetype": "text/x-python",
   "name": "python",
   "nbconvert_exporter": "python",
   "pygments_lexer": "ipython3",
   "version": "3.8.5"
  }
 },
 "nbformat": 4,
 "nbformat_minor": 4
}
