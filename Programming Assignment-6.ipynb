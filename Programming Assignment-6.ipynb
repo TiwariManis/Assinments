{
 "cells": [
  {
   "cell_type": "markdown",
   "metadata": {},
   "source": [
    "# Programming Assignment-6"
   ]
  },
  {
   "cell_type": "code",
   "execution_count": 3,
   "metadata": {},
   "outputs": [
    {
     "name": "stdout",
     "output_type": "stream",
     "text": [
      "How many terms do you need? :10\n",
      "Fibonacci sequence :\n",
      "0\n",
      "1\n",
      "1\n",
      "2\n",
      "3\n",
      "5\n",
      "8\n",
      "13\n",
      "21\n",
      "34\n"
     ]
    }
   ],
   "source": [
    "#Q1. Write a Python Program to Display Fibonacci Sequence Using Recursion.\n",
    "\n",
    "#taking input from user\n",
    "nterm = int(input(\"How many terms do you need? :\"))\n",
    "\n",
    "def recur_fibo(n):\n",
    "    if n <= 1:\n",
    "        return n\n",
    "    else:\n",
    "        return(recur_fibo(n-1) + recur_fibo(n-2))\n",
    "    \n",
    "#checking if number of terms is valid\n",
    "\n",
    "if nterm <= 0 :\n",
    "    print(\"Please enter the positive number\")\n",
    "    \n",
    "else:\n",
    "    print(\"Fibonacci sequence :\")\n",
    "    for i in range(nterm):\n",
    "        print(recur_fibo(i))"
   ]
  },
  {
   "cell_type": "code",
   "execution_count": 11,
   "metadata": {},
   "outputs": [
    {
     "name": "stdout",
     "output_type": "stream",
     "text": [
      "Please enter the number: 3\n",
      "The factorial of 3 is 6\n"
     ]
    }
   ],
   "source": [
    "#Q2. Write a Python Program to Find Factorial of Number Using Recursion.\n",
    "\n",
    "num = int(input(\"Please enter the number: \"))\n",
    "\n",
    "def factorial(num):\n",
    "    if num == 1:\n",
    "        return num\n",
    "    else:\n",
    "        return(num * factorial(num-1))\n",
    "    \n",
    "if num <=0:\n",
    "    print(\"please enter the positive number\")\n",
    "elif num == 0:\n",
    "    print(\"The factorial of 0 is 1.\")\n",
    "else:\n",
    "    print(\"The factorial of\",num,\"is\",factorial(num))\n"
   ]
  },
  {
   "cell_type": "code",
   "execution_count": 12,
   "metadata": {},
   "outputs": [
    {
     "name": "stdout",
     "output_type": "stream",
     "text": [
      "Please enter the height(in m): 1.7\n",
      "Please enter the weight(in kg): 65\n",
      "The BMI is : 22.49134948096886\n"
     ]
    }
   ],
   "source": [
    "#Q3. Write a Python Program to calculate your Body Mass Index.\n",
    "\n",
    "height = float(input(\"Please enter the height(in m): \"))\n",
    "weight = int(input(\"Please enter the weight(in kg): \"))\n",
    "\n",
    "BMI = (weight)/(height*height)\n",
    "\n",
    "print(\"The BMI is :\", BMI)"
   ]
  },
  {
   "cell_type": "code",
   "execution_count": 5,
   "metadata": {},
   "outputs": [
    {
     "name": "stdout",
     "output_type": "stream",
     "text": [
      "2.302585092994046\n",
      "0.0\n"
     ]
    },
    {
     "data": {
      "text/plain": [
       "1.1447298858494002"
      ]
     },
     "execution_count": 5,
     "metadata": {},
     "output_type": "execute_result"
    }
   ],
   "source": [
    "#Q4. Write a Python Program to calculate the natural logarithm of any number\n",
    "\n",
    "import math\n",
    "\n",
    "print(math.log(10))\n",
    "print(math.log(1))\n"
   ]
  },
  {
   "cell_type": "code",
   "execution_count": 10,
   "metadata": {},
   "outputs": [
    {
     "name": "stdout",
     "output_type": "stream",
     "text": [
      "Cube sum of how many numbers? : 10\n",
      "3025\n"
     ]
    }
   ],
   "source": [
    "#Q5. Write a Python Program for cube sum of first n natural numbers.\n",
    "\n",
    "def SumofSeries(n):\n",
    "    sum = 0\n",
    "    for i in range(1,n+1):\n",
    "        sum += i*i*i\n",
    "    return sum\n",
    "\n",
    "n = int(input(\"Cube sum of how many numbers? : \"))\n",
    "\n",
    "print(SumofSeries(n))"
   ]
  },
  {
   "cell_type": "code",
   "execution_count": null,
   "metadata": {},
   "outputs": [],
   "source": []
  }
 ],
 "metadata": {
  "kernelspec": {
   "display_name": "Python 3",
   "language": "python",
   "name": "python3"
  },
  "language_info": {
   "codemirror_mode": {
    "name": "ipython",
    "version": 3
   },
   "file_extension": ".py",
   "mimetype": "text/x-python",
   "name": "python",
   "nbconvert_exporter": "python",
   "pygments_lexer": "ipython3",
   "version": "3.8.5"
  }
 },
 "nbformat": 4,
 "nbformat_minor": 4
}
