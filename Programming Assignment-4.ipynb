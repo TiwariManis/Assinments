{
 "cells": [
  {
   "cell_type": "code",
   "execution_count": 7,
   "metadata": {},
   "outputs": [
    {
     "name": "stdout",
     "output_type": "stream",
     "text": [
      "Please enter the number5\n",
      "The factorial of 5 is 120\n"
     ]
    }
   ],
   "source": [
    "#Q1.Write a Python Program to Find the Factorial of a Number?\n",
    "\n",
    "#taking input from user \n",
    "num = int(input(\"Please enter the number\"))\n",
    "\n",
    "factorial = 1\n",
    "\n",
    "if num < 0:\n",
    "    print(\" Factorial does not exit for Negative numbers\")\n",
    "elif num == 0:\n",
    "    print(\"The factorial of 0 is 1\")\n",
    "    \n",
    "else:\n",
    "    for i in range(1,num+1):\n",
    "        factorial = factorial * i\n",
    "    print(\"The factorial of\", num, \"is\", factorial)\n"
   ]
  },
  {
   "cell_type": "code",
   "execution_count": 2,
   "metadata": {},
   "outputs": [
    {
     "name": "stdout",
     "output_type": "stream",
     "text": [
      "Show the multiplication of : 5\n",
      "5 x 1 = 5\n",
      "5 x 2 = 10\n",
      "5 x 3 = 15\n",
      "5 x 4 = 20\n",
      "5 x 5 = 25\n",
      "5 x 6 = 30\n",
      "5 x 7 = 35\n",
      "5 x 8 = 40\n",
      "5 x 9 = 45\n",
      "5 x 10 = 50\n"
     ]
    }
   ],
   "source": [
    "#Q2.Write a Python Program to Display the multiplication Table?\n",
    "\n",
    "\n",
    "# taking inputs from user\n",
    "\n",
    "num = int(input(\"Show the multiplication of : \"))\n",
    "\n",
    "for i in range (1,11):\n",
    "    print(num,'x',i,'=', num*i)"
   ]
  },
  {
   "cell_type": "code",
   "execution_count": 11,
   "metadata": {},
   "outputs": [
    {
     "name": "stdout",
     "output_type": "stream",
     "text": [
      "How many terms you want? 10\n",
      "Fibonacci sequence:\n",
      "0 , 1, 1 , 2 , 3 , 5 , 8 , 13 , 21 , 34 , "
     ]
    }
   ],
   "source": [
    "#Q3.Write a Python Program to Print the Fibonacci sequence?\n",
    "\n",
    "nterms = int(input(\"How many terms you want? \"))  \n",
    "# first two terms  \n",
    "n1 = 0  \n",
    "n2 = 1  \n",
    "count = 2  \n",
    "# check if the number of terms is valid  \n",
    "if nterms <= 0:  \n",
    "    print(\"Plese enter a positive integer\")  \n",
    "elif nterms == 1:\n",
    "    print(\"Fibonacci sequence:\")  \n",
    "    print(n1)\n",
    "else:  \n",
    "    print(\"Fibonacci sequence:\")  \n",
    "    print(n1,\",\",n2,end=', ')  \n",
    "    while count < nterms:  \n",
    "        nth = n1 + n2  \n",
    "        print(nth,end=' , ')  \n",
    "           # update values  \n",
    "        n1 = n2  \n",
    "        n2 = nth  \n",
    "        count += 1\n"
   ]
  },
  {
   "cell_type": "code",
   "execution_count": 22,
   "metadata": {},
   "outputs": [
    {
     "name": "stdout",
     "output_type": "stream",
     "text": [
      "Please enter the number :153\n",
      "153 :Number is armstrong\n"
     ]
    }
   ],
   "source": [
    "#Q4. Write a Python Program to Check Armstrong Number?\n",
    "import math\n",
    "\n",
    "num = int(input(\"Please enter the number :\"))\n",
    "\n",
    "def check_armsstrong(num):\n",
    "    order = len(str(num))\n",
    "    sum = 0\n",
    "    original_value = num\n",
    "    while num>0:\n",
    "        digit = num % 10\n",
    "        sum += digit ** order\n",
    "        num = num // 10\n",
    "        \n",
    "    if sum == original_value:\n",
    "        return True\n",
    "    else: \n",
    "        False \n",
    "    \n",
    "if check_armsstrong(num):\n",
    "    print(num,\":Number is armstrong\")\n",
    "else:\n",
    "    print(num,\":Number is not armstrong\")\n",
    "        "
   ]
  },
  {
   "cell_type": "code",
   "execution_count": 3,
   "metadata": {},
   "outputs": [
    {
     "name": "stdout",
     "output_type": "stream",
     "text": [
      "Enter lower range: 152\n",
      "Enter upper range: 155\n",
      "152 :Number is not armstrong\n",
      "153 :Number is armstrong\n",
      "154 :Number is not armstrong\n",
      "155 :Number is not armstrong\n"
     ]
    }
   ],
   "source": [
    "# Q5 Write a Python Program to Find Armstrong Number \n",
    "# in an Interval.\n",
    "\n",
    "lower_num = int(input(\"Enter lower range: \"))  \n",
    "upper_num = int(input(\"Enter upper range: \")) \n",
    "\n",
    "for num in range(lower_num, upper_num + 1):\n",
    "    order = len(str(num))\n",
    "    sum = 0\n",
    "    original_value = num\n",
    "    \n",
    "    while original_value > 0:\n",
    "        digit = original_value % 10\n",
    "        sum += digit ** order \n",
    "        original_value //= 10\n",
    "        \n",
    "    if num == sum:\n",
    "            print(num, \":Number is armstrong\")\n",
    "    else:\n",
    "            print(num, \":Number is not armstrong\")"
   ]
  },
  {
   "cell_type": "code",
   "execution_count": 2,
   "metadata": {},
   "outputs": [
    {
     "name": "stdout",
     "output_type": "stream",
     "text": [
      "Please Enter the number :10\n",
      "The sum is : 55\n"
     ]
    }
   ],
   "source": [
    "#Q6.\n",
    "#the Sum of Natural Numbers\n",
    "\n",
    "num = int(input(\"Please Enter the number :\"))\n",
    "\n",
    "if num < 0:\n",
    "    print(\"please enter the positive number\")\n",
    "    \n",
    "else:\n",
    "    sum = 0\n",
    "    \n",
    "    while (num>0):\n",
    "        sum += num\n",
    "        num -= 1\n",
    "    print(\"The sum is :\", sum)\n",
    "    \n",
    "    "
   ]
  },
  {
   "cell_type": "markdown",
   "metadata": {},
   "source": [
    "## "
   ]
  }
 ],
 "metadata": {
  "kernelspec": {
   "display_name": "Python 3",
   "language": "python",
   "name": "python3"
  },
  "language_info": {
   "codemirror_mode": {
    "name": "ipython",
    "version": 3
   },
   "file_extension": ".py",
   "mimetype": "text/x-python",
   "name": "python",
   "nbconvert_exporter": "python",
   "pygments_lexer": "ipython3",
   "version": "3.8.5"
  }
 },
 "nbformat": 4,
 "nbformat_minor": 4
}
