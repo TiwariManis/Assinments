{
 "cells": [
  {
   "cell_type": "markdown",
   "metadata": {},
   "source": [
    "# Advance Assignments-2"
   ]
  },
  {
   "cell_type": "markdown",
   "metadata": {},
   "source": [
    "#Q1 What is the relationship between classes and modules?.\n",
    "\n",
    ":- module in python is simply a way to organize the code, and it \n",
    "    contains either python classes or just functions.Modules can contain functions but also classes. Modules are imported using the import keyword. Classescan be defined in your main application code or inside modules imported by your application.\n",
    "    "
   ]
  },
  {
   "cell_type": "markdown",
   "metadata": {},
   "source": [
    "#Q2. How do you make instances and classes?\n",
    "\n",
    ":- To create instances of a class, you call the class using class name and pass in whatever arguments \n",
    "   its \"__init__\" method accepts"
   ]
  },
  {
   "cell_type": "markdown",
   "metadata": {},
   "source": [
    "#Q3.Where and how should be class attributes created?\n",
    "\n",
    ":- Class attributes belong to the class itself they will be shared by all the instances. Such attributes are defined in the class body parts usually at the top, for legibility. Unlike class attributes, instance attributes are not shared by objects"
   ]
  },
  {
   "cell_type": "markdown",
   "metadata": {},
   "source": [
    "#Q4. Where and how are instance attributes created?\n",
    "\n",
    ":- Instance attributes are defined in the constructor. Defined directly inside a class. Defined inside a constructor using the self parameter. ... You can now access the count attribute after creating the objects,"
   ]
  },
  {
   "cell_type": "markdown",
   "metadata": {},
   "source": [
    "#Q5. What does the term self in a Python class mean?\n",
    "\n",
    ":- self represents the instance of the class. By using the “self” keyword we can access the attributes and methods of the class in python. It binds the attributes with the given arguments."
   ]
  },
  {
   "cell_type": "markdown",
   "metadata": {},
   "source": [
    "#Q6. How does a Python class handle operator overloading?\n",
    "\n",
    ":- Python operators work for built-in classes. ... For example, the + operator will perform arithmetic addition on two numbers, merge two lists, or concatenate two strings. This feature in Python that allows the same operator to have different meaning according to the context is called operator overloading"
   ]
  },
  {
   "cell_type": "markdown",
   "metadata": {},
   "source": [
    "#Q7.When do you consider allowing operator overloading of your classes?\n",
    "\n",
    ":- Arithmetic addition on two numbers, merge two lists, or concatenate two strings."
   ]
  },
  {
   "cell_type": "markdown",
   "metadata": {},
   "source": [
    "#Q8. What is the most popular form of operator overloading?\n",
    "\n",
    ":-  the + operator will perform arithmetic addition on two numbers, merge two lists, or concatenate two strings"
   ]
  },
  {
   "cell_type": "markdown",
   "metadata": {},
   "source": [
    "#Q9. What are the two most important concepts to grasp in order to comprehend Python OOP code?\n",
    "\n",
    ":-nheritance, Encapsulation,and Data abstraction"
   ]
  },
  {
   "cell_type": "code",
   "execution_count": null,
   "metadata": {},
   "outputs": [],
   "source": []
  }
 ],
 "metadata": {
  "kernelspec": {
   "display_name": "Python 3",
   "language": "python",
   "name": "python3"
  },
  "language_info": {
   "codemirror_mode": {
    "name": "ipython",
    "version": 3
   },
   "file_extension": ".py",
   "mimetype": "text/x-python",
   "name": "python",
   "nbconvert_exporter": "python",
   "pygments_lexer": "ipython3",
   "version": "3.8.5"
  }
 },
 "nbformat": 4,
 "nbformat_minor": 4
}
