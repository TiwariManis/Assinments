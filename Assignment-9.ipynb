{
 "cells": [
  {
   "cell_type": "markdown",
   "metadata": {},
   "source": [
    "# Assignment-9"
   ]
  },
  {
   "cell_type": "markdown",
   "metadata": {},
   "source": [
    "Q1 To what does a relative path refer?\n",
    "\n",
    ": A relative path refers to a location that is relative \n",
    "to a current directory.\n",
    "\n",
    "Relative paths make use of two special symbols, a dot (.) and \n",
    "a double-dot (..)."
   ]
  },
  {
   "cell_type": "markdown",
   "metadata": {},
   "source": [
    "Q2. What does an absolute path start with your operating system?\n",
    "\n",
    ": Absolute paths start with the root folder, such as / or C:\\.\n"
   ]
  },
  {
   "cell_type": "markdown",
   "metadata": {},
   "source": [
    "Q3. What do the functions os.getcwd() and os.chdir() do?\n",
    "\n",
    ": os.getcwd():- function return to current working directory\n",
    "    \n",
    "  os.chdir():-  function is used to change the current working\n",
    "                directory."
   ]
  },
  {
   "cell_type": "markdown",
   "metadata": {},
   "source": [
    "Q4. What are the . and .. folders?\n",
    "\n",
    ": the . folder is the current folder and .. folder is the \n",
    "  parent folder "
   ]
  },
  {
   "cell_type": "markdown",
   "metadata": {},
   "source": [
    "Q5. In C:\\bacon\\eggs\\spam.txt, which part is the dir name, and which part is the base name?\n",
    "    \n",
    "    : C:/bacon/eggs is the name of dir and spam.txt is name of base."
   ]
  },
  {
   "cell_type": "markdown",
   "metadata": {},
   "source": [
    "Q6. What are the three “mode” arguments that can be passed to the open() function?\n",
    "\n",
    ": The strint 'r' for read mode, 'w' for write mode and 'a' for append mode."
   ]
  },
  {
   "cell_type": "markdown",
   "metadata": {},
   "source": [
    "Q7. What happens if an existing file is opened in write mode?\n",
    "\n",
    ": An exiting file opened in write mode is erased and completely \n",
    "    overwritten.\n",
    "    "
   ]
  },
  {
   "cell_type": "markdown",
   "metadata": {},
   "source": [
    "Q8. How do you tell the difference between read() and readlines()?\n",
    "\n",
    ": The read() method returns the file’s entire contents as a single string value.\n",
    "  \n",
    "  The readlines() method returns a list of strings, where each string is a line from the file’s contents."
   ]
  },
  {
   "cell_type": "markdown",
   "metadata": {},
   "source": [
    "Q9. What data structure does a shelf value resemble?\n",
    "\n",
    ": A shelf value resembles a dictionary value; it has keys and \n",
    "  values, along with keys() and values() method that work similarly\n",
    "  to the dictionary method of the same names."
   ]
  },
  {
   "cell_type": "code",
   "execution_count": null,
   "metadata": {},
   "outputs": [],
   "source": []
  }
 ],
 "metadata": {
  "kernelspec": {
   "display_name": "Python 3",
   "language": "python",
   "name": "python3"
  },
  "language_info": {
   "codemirror_mode": {
    "name": "ipython",
    "version": 3
   },
   "file_extension": ".py",
   "mimetype": "text/x-python",
   "name": "python",
   "nbconvert_exporter": "python",
   "pygments_lexer": "ipython3",
   "version": "3.8.5"
  }
 },
 "nbformat": 4,
 "nbformat_minor": 4
}
