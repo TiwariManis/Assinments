{
 "cells": [
  {
   "cell_type": "markdown",
   "metadata": {},
   "source": [
    "# Programming_Assignment-9"
   ]
  },
  {
   "cell_type": "code",
   "execution_count": 36,
   "metadata": {},
   "outputs": [
    {
     "name": "stdout",
     "output_type": "stream",
     "text": [
      "Please Enter the Number : 89\n",
      "89 is a Disarium Number.\n"
     ]
    }
   ],
   "source": [
    "#Q1 Write a Python program to check if the given number is a Disarium Number.\n",
    "\n",
    "def digits(n):\n",
    "    length = 0\n",
    "    while(n>0):\n",
    "        n = n//10\n",
    "        length = length +1\n",
    "    return length\n",
    "\n",
    "def Disarium(x,n):\n",
    "    Sum = 0\n",
    "    while(n>0):\n",
    "        r = n%10\n",
    "        Sum = Sum+(r**x)\n",
    "        n = n//10\n",
    "        x = x-1\n",
    "    return Sum\n",
    "\n",
    "n=int(input(\"Please Enter the Number : \"))\n",
    "x=digits(n)\n",
    "m=Disarium(x,n)\n",
    "\n",
    "if(m==n):\n",
    "    print(m, \"is a Disarium Number.\")\n",
    "else:\n",
    "    print(m , \"is Not a Disarium Number.\")"
   ]
  },
  {
   "cell_type": "code",
   "execution_count": 40,
   "metadata": {},
   "outputs": [
    {
     "name": "stdout",
     "output_type": "stream",
     "text": [
      "The disarium numbers between 1 and 100 are : \n",
      "1\n",
      "2\n",
      "3\n",
      "4\n",
      "5\n",
      "6\n",
      "7\n",
      "8\n",
      "9\n",
      "89\n"
     ]
    }
   ],
   "source": [
    "#Q2. \n",
    "\n",
    "def calculateLength(n):  \n",
    "    length = 0\n",
    "    while(n != 0):\n",
    "        length = length + 1 \n",
    "        n = n//10\n",
    "    return length\n",
    "   \n",
    "def SumOfDigits(num):  \n",
    "    rem = Sum = 0\n",
    "    length = calculateLength(num) \n",
    "      \n",
    "    while(num > 0):  \n",
    "        rem = num%10 \n",
    "        Sum = sum + (rem**length)\n",
    "        num = num//10 \n",
    "        length = length - 1\n",
    "    return Sum\n",
    "\n",
    "\n",
    "ini_result = 0  \n",
    "    \n",
    "print(\"The disarium numbers between 1 and 100 are : \") \n",
    "for i in range(1, 101):   \n",
    "   ini_result = digit_sum(i)   \n",
    "      \n",
    "   if(ini_result == i):   \n",
    "      print(i)"
   ]
  },
  {
   "cell_type": "code",
   "execution_count": 45,
   "metadata": {},
   "outputs": [
    {
     "name": "stdout",
     "output_type": "stream",
     "text": [
      "Please enter thr number : 101\n",
      "101 isn't a happy number\n"
     ]
    }
   ],
   "source": [
    "#Q3.Write a Python program to check if the given number is Happy Number.\n",
    "\n",
    "def check_happy_num(my_num):   \n",
    "   remaining = sum_val = 0   \n",
    "      \n",
    "   while(my_num > 0):   \n",
    "      remaining = my_num%10   \n",
    "      sum_val = sum_val + (remaining*remaining)   \n",
    "      my_num = my_num//10   \n",
    "   return sum_val;   \n",
    "      \n",
    "my_num = int(input(\"Please enter thr number : \"))  \n",
    "my_result = my_num   \n",
    "    \n",
    "while(my_result != 1 and my_result != 4):   \n",
    "   my_result = check_happy_num(my_result);   \n",
    "   \n",
    "if(my_result == 1):   \n",
    "   print(str(my_num) + \" is a happy number\");   \n",
    "elif(my_result == 4):   \n",
    "   print(str(my_num) + \" isn't a happy number\")"
   ]
  },
  {
   "cell_type": "code",
   "execution_count": 46,
   "metadata": {},
   "outputs": [
    {
     "name": "stdout",
     "output_type": "stream",
     "text": [
      "The list of happy numbers between 1 and 100 are : \n",
      "1\n",
      "7\n",
      "10\n",
      "13\n",
      "19\n",
      "23\n",
      "28\n",
      "31\n",
      "32\n",
      "44\n",
      "49\n",
      "68\n",
      "70\n",
      "79\n",
      "82\n",
      "86\n",
      "91\n",
      "94\n",
      "97\n",
      "100\n"
     ]
    }
   ],
   "source": [
    "#Q4. Write a Python program to print all happy numbers between 1 and 100?\n",
    "\n",
    "def check_happy_num(my_num):   \n",
    "   remaining = sum_val = 0   \n",
    "      \n",
    "   while(my_num > 0):   \n",
    "      remaining = my_num%10   \n",
    "      sum_val = sum_val + (remaining*remaining)   \n",
    "      my_num = my_num//10   \n",
    "   return sum_val\n",
    "      \n",
    "print(\"The list of happy numbers between 1 and 100 are : \")\n",
    "\n",
    "for i in range(1,101):\n",
    "    my_result = i\n",
    "    while (my_result != 1 and my_result != 4):\n",
    "        my_result = check_happy_num(my_result)\n",
    "    if(my_result == 1):\n",
    "        print(i)\n",
    "    "
   ]
  },
  {
   "cell_type": "code",
   "execution_count": 59,
   "metadata": {},
   "outputs": [
    {
     "name": "stdout",
     "output_type": "stream",
     "text": [
      "please enter the number :134\n",
      "134 is not a harshad number\n"
     ]
    }
   ],
   "source": [
    "#Q5. Write a Python program to determine whether the given number is a Harshad Number\n",
    "\n",
    "\n",
    "num = int(input(\"please enter the number :\"))\n",
    "\n",
    "rem = Sum = 0\n",
    "\n",
    "n = num \n",
    "\n",
    "while (num > 0):\n",
    "    rem = num%10\n",
    "    Sum = Sum + rem\n",
    "    num = num //10\n",
    "    \n",
    "\n",
    "if(n%Sum == 0):\n",
    "    print(str(n), \"is a harshad number\")\n",
    "else:\n",
    "    print(str(n), \"is not a harshad number\")"
   ]
  },
  {
   "cell_type": "code",
   "execution_count": 72,
   "metadata": {},
   "outputs": [
    {
     "name": "stdout",
     "output_type": "stream",
     "text": [
      "Below are the Pronic numbers between 1 and 100:\n",
      "2\n",
      " \n",
      "6\n",
      " \n",
      "12\n",
      " \n",
      "20\n",
      " \n",
      "30\n",
      " \n",
      "42\n",
      " \n",
      "56\n",
      " \n",
      "72\n",
      " \n",
      "90\n",
      " \n"
     ]
    }
   ],
   "source": [
    "#Q6. Python program to print all pronic numbers between 1 and 100.\n",
    "\n",
    "def PronicNumber(num):\n",
    "    flag = False \n",
    "    \n",
    "    for j in range(1,num+1):\n",
    "        if((j*(j+1)) == num):\n",
    "            flag = True\n",
    "            break \n",
    "    return flag \n",
    "print(\"Below are the Pronic numbers between 1 and 100:\") \n",
    "for i in range(1,101):\n",
    "    if(PronicNumber(i)):\n",
    "        print(i)\n",
    "        print(\" \")"
   ]
  },
  {
   "cell_type": "code",
   "execution_count": null,
   "metadata": {},
   "outputs": [],
   "source": []
  }
 ],
 "metadata": {
  "kernelspec": {
   "display_name": "Python 3",
   "language": "python",
   "name": "python3"
  },
  "language_info": {
   "codemirror_mode": {
    "name": "ipython",
    "version": 3
   },
   "file_extension": ".py",
   "mimetype": "text/x-python",
   "name": "python",
   "nbconvert_exporter": "python",
   "pygments_lexer": "ipython3",
   "version": "3.8.5"
  }
 },
 "nbformat": 4,
 "nbformat_minor": 4
}
