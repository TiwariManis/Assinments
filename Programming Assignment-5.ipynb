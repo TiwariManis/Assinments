{
 "cells": [
  {
   "cell_type": "markdown",
   "metadata": {},
   "source": [
    "# Programming Assignment-5"
   ]
  },
  {
   "cell_type": "code",
   "execution_count": 14,
   "metadata": {},
   "outputs": [
    {
     "name": "stdout",
     "output_type": "stream",
     "text": [
      "Enter first number: \t12\n",
      "Enter second number: \t20\n",
      "The L.C.M. of 12 and 20 is 60\n"
     ]
    }
   ],
   "source": [
    "#Q1. Write a Python Program to Find LCM?\n",
    "\n",
    "def lcm(x, y):  \n",
    "    if x > y:  \n",
    "        greater = x  \n",
    "    else:  \n",
    "        \n",
    "        greater = y  \n",
    "    while(True):  \n",
    "        if((greater % x == 0) and (greater % y == 0)):  \n",
    "            lcm = greater  \n",
    "            break\n",
    "        greater += 1  \n",
    "    return lcm  \n",
    "  \n",
    "num1 = int(input(\"Enter first number: \\t\"))  \n",
    "num2 = int(input(\"Enter second number: \\t\"))  \n",
    "print(\"The L.C.M. of\", num1,\"and\", num2,\"is\", lcm(num1, num2))  "
   ]
  },
  {
   "cell_type": "code",
   "execution_count": 15,
   "metadata": {},
   "outputs": [
    {
     "name": "stdout",
     "output_type": "stream",
     "text": [
      "Enter first number: 8\n",
      "Enter second number: 12\n",
      "The H.C.F. of 8 and 12 is 4\n"
     ]
    }
   ],
   "source": [
    "#Q2. Write a Python Program to Find HCF?\n",
    "\n",
    "\n",
    "def hcf(x, y):  \n",
    "    if x > y:  \n",
    "        smaller = y  \n",
    "    else:  \n",
    "        smaller = x  \n",
    "    for i in range(1,smaller + 1):  \n",
    "        if((x % i == 0) and (y % i == 0)):  \n",
    "            hcf = i  \n",
    "    return hcf  \n",
    "  \n",
    "num1 = int(input(\"Enter first number: \"))  \n",
    "num2 = int(input(\"Enter second number: \"))  \n",
    "print(\"The H.C.F. of\", num1,\"and\", num2,\"is\", hcf(num1, num2)) "
   ]
  },
  {
   "cell_type": "code",
   "execution_count": 26,
   "metadata": {},
   "outputs": [
    {
     "name": "stdout",
     "output_type": "stream",
     "text": [
      "Please enter the number:344\n",
      "The decimal value of 344 is:\n",
      "0b101011000 in Binary.\n",
      "0o530 in octa\n",
      "0x158 in hexadecimal\n"
     ]
    }
   ],
   "source": [
    "#Q3. Write a Python Program to Convert Decimal to Binary, Octal and Hexadecimal?\n",
    "\n",
    "decimal = int(input(\"Please enter the number:\"))\n",
    "\n",
    "print(\"The decimal value of\", decimal , \"is:\")\n",
    "print(bin(decimal), \"in Binary.\")\n",
    "print(oct(decimal), \"in octa\")\n",
    "print(hex(decimal), \"in hexadecimal\")"
   ]
  },
  {
   "cell_type": "code",
   "execution_count": 30,
   "metadata": {},
   "outputs": [
    {
     "name": "stdout",
     "output_type": "stream",
     "text": [
      "Please enter the character: a\n",
      "The ASCII value of 'a' is 97\n"
     ]
    }
   ],
   "source": [
    "#Q4. Write a Python Program To Find ASCII value of a character?\n",
    "\n",
    "char = input(\"Please enter the character: \")\n",
    "\n",
    "print(\"The ASCII value of '\" + char + \"' is\",ord(char))"
   ]
  },
  {
   "cell_type": "code",
   "execution_count": 43,
   "metadata": {},
   "outputs": [
    {
     "name": "stdout",
     "output_type": "stream",
     "text": [
      "Select an operation.\n",
      "+\n",
      "-\n",
      "*\n",
      "/\n",
      "Please enter the operator: *\n",
      "Please enter the value of A: 2\n",
      "Please enter the value of B: 2\n",
      "2 * 2 = 4\n"
     ]
    }
   ],
   "source": [
    "#Q5. Write a Python Program to Make a Simple Calculator with 4 basic mathematical operations?\n",
    "\n",
    "def add(a,b):\n",
    "    \"\"\"This function will perform addition.\"\"\"\n",
    "    return a + b\n",
    "\n",
    "def substract(a,b):\n",
    "    \"\"\"This function will preform the subtraction\"\"\"\n",
    "    return a - b\n",
    "\n",
    "def mul(a,b):\n",
    "    \"\"\"This function will perform the multiplication\"\"\"\n",
    "    return a * b\n",
    "\n",
    "def div(a,b):\n",
    "    \"\"\"This function will perform divion\"\"\"\n",
    "    return a / b\n",
    "\n",
    "print(\"Select an operation.\")\n",
    "print(\"+\")\n",
    "print(\"-\")\n",
    "print(\"*\")\n",
    "print(\"/\")\n",
    "\n",
    "operator = input(\"Please enter the operator: \")\n",
    "\n",
    "a = int(input(\"Please enter the value of A: \"))\n",
    "b = int(input(\"Please enter the value of B: \"))\n",
    "\n",
    "if operator == \"+\":\n",
    "    print(a, \"+\", b, \"=\", add(a,b))\n",
    "elif operator == \"-\":\n",
    "    print(a,\"-\",b,\"=\", substract(a,b))\n",
    "elif operator == \"*\":\n",
    "    print(a,\"*\",b, \"=\", mul(a,b))\n",
    "elif operator == \"/\":\n",
    "    print(a,\"/\",b,\"=\", div(a,b))\n",
    "else:\n",
    "    print(\"invalid input\")"
   ]
  },
  {
   "cell_type": "code",
   "execution_count": null,
   "metadata": {},
   "outputs": [],
   "source": []
  }
 ],
 "metadata": {
  "kernelspec": {
   "display_name": "Python 3",
   "language": "python",
   "name": "python3"
  },
  "language_info": {
   "codemirror_mode": {
    "name": "ipython",
    "version": 3
   },
   "file_extension": ".py",
   "mimetype": "text/x-python",
   "name": "python",
   "nbconvert_exporter": "python",
   "pygments_lexer": "ipython3",
   "version": "3.8.5"
  }
 },
 "nbformat": 4,
 "nbformat_minor": 4
}
