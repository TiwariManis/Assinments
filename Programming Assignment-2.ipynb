{
 "cells": [
  {
   "cell_type": "markdown",
   "metadata": {},
   "source": [
    "# Programming Assignment_2"
   ]
  },
  {
   "cell_type": "code",
   "execution_count": 7,
   "metadata": {},
   "outputs": [
    {
     "name": "stdout",
     "output_type": "stream",
     "text": [
      "Please enter the value in Kolometer:10\n",
      "the value in mies: 6.21371\n"
     ]
    }
   ],
   "source": [
    "#Q1 Write a Python program to convert kilometers to miles?\n",
    "\n",
    "Kilometer = int(input(\"Please enter the value in Kolometer:\"))\n",
    "\n",
    "# 1 kilometer = 0.621371 Mile\n",
    "\n",
    "ratio = 0.621371\n",
    "\n",
    "# conversion from km to mi\n",
    "\n",
    "mi = Kilometer * ratio\n",
    "\n",
    "print(\"the value in mies:\", mi)\n"
   ]
  },
  {
   "cell_type": "code",
   "execution_count": 14,
   "metadata": {},
   "outputs": [
    {
     "name": "stdout",
     "output_type": "stream",
     "text": [
      "Please enter the temp in Celsius37\n",
      "The temp in F is :  98.6\n"
     ]
    }
   ],
   "source": [
    "#Q2 Write a Python program to convert Celsius to Fahrenheit?\n",
    "\n",
    "celsius = float(input(\"Please enter the temp in Celsius\"))\n",
    "\n",
    "# formula = (celsius * 9/5) + 32\n",
    "\n",
    "Fahrenheit = (celsius * 9/5) + 32\n",
    "\n",
    "print(\"The temp in F is : \", Fahrenheit)\n"
   ]
  },
  {
   "cell_type": "code",
   "execution_count": 1,
   "metadata": {},
   "outputs": [
    {
     "name": "stdout",
     "output_type": "stream",
     "text": [
      "     April 2021\n",
      "Mo Tu We Th Fr Sa Su\n",
      "          1  2  3  4\n",
      " 5  6  7  8  9 10 11\n",
      "12 13 14 15 16 17 18\n",
      "19 20 21 22 23 24 25\n",
      "26 27 28 29 30\n",
      "\n"
     ]
    }
   ],
   "source": [
    "#Q3 Write a Python program to display calendar?\n",
    "\n",
    "import calendar\n",
    "\n",
    "cal = calendar.month(2021,4)\n",
    "\n",
    "print(cal)"
   ]
  },
  {
   "cell_type": "code",
   "execution_count": 6,
   "metadata": {},
   "outputs": [
    {
     "name": "stdout",
     "output_type": "stream",
     "text": [
      "Please enter the value of a :1\n",
      "Please enter the value of b :5\n",
      "Please enter the value of c :6\n",
      "The solutions are (-3+0j) and (-2+0j)\n"
     ]
    }
   ],
   "source": [
    "#Q4. Write a Python program to solve quadratic equation?\n",
    "\n",
    "import cmath # imported complex math module \n",
    "\n",
    "a = float(input(\"Please enter the value of a :\"))\n",
    "b = float(input(\"Please enter the value of b :\"))\n",
    "c = float(input(\"Please enter the value of c :\"))\n",
    "\n",
    "# calcuate the discriminant\n",
    "\n",
    "d = (b**2) - (4*a*c)\n",
    "\n",
    "sol1 = (-b-cmath.sqrt(d))/(2*a)\n",
    "sol2 = (-b+cmath.sqrt(d))/(2*a)\n",
    "\n",
    "print(\"The solutions are {0} and {1}\".format(sol1,sol2))"
   ]
  },
  {
   "cell_type": "code",
   "execution_count": 28,
   "metadata": {},
   "outputs": [
    {
     "name": "stdout",
     "output_type": "stream",
     "text": [
      "x = 20\n",
      "y = 10\n"
     ]
    }
   ],
   "source": [
    "#Q5. Write a Python program to swap two variables without temp variable?\n",
    "\n",
    "x,y= 10,20\n",
    "\n",
    "\n",
    "x,y = y,x\n",
    "\n",
    "print(\"x =\" ,x)\n",
    "print(\"y =\", y)"
   ]
  }
 ],
 "metadata": {
  "kernelspec": {
   "display_name": "Python 3",
   "language": "python",
   "name": "python3"
  },
  "language_info": {
   "codemirror_mode": {
    "name": "ipython",
    "version": 3
   },
   "file_extension": ".py",
   "mimetype": "text/x-python",
   "name": "python",
   "nbconvert_exporter": "python",
   "pygments_lexer": "ipython3",
   "version": "3.8.5"
  }
 },
 "nbformat": 4,
 "nbformat_minor": 4
}
