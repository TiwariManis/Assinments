{
 "cells": [
  {
   "cell_type": "markdown",
   "metadata": {},
   "source": [
    "# Programming_Assignment-11"
   ]
  },
  {
   "cell_type": "code",
   "execution_count": 7,
   "metadata": {},
   "outputs": [
    {
     "name": "stdout",
     "output_type": "stream",
     "text": [
      "Please Enter the string : I am Part of stack batch\n",
      "Please Enter the length : 4\n",
      "Words which are greater than length 4\n",
      "['stack', 'batch']\n"
     ]
    }
   ],
   "source": [
    "#Q1. Write a Python program to find words which are greater than given length k.\n",
    "\n",
    "def wordsBiggerThanLengthK(k,string):\n",
    "    txt = string.split()\n",
    "    listOfWords = []\n",
    "    for i in txt:\n",
    "        if len(i) > k:\n",
    "            listOfWords.append(i)\n",
    "    return listOfWords\n",
    "\n",
    "string = input(\"Please Enter the string : \")\n",
    "k = int(input(\"Please Enter the length : \"))\n",
    "\n",
    "listword = wordsBiggerThanLengthK(k,string)\n",
    "\n",
    "\n",
    "print(\"Words which are greater than length {}\".format(k))\n",
    "print(listword)"
   ]
  },
  {
   "cell_type": "code",
   "execution_count": 19,
   "metadata": {},
   "outputs": [
    {
     "name": "stdout",
     "output_type": "stream",
     "text": [
      "Please Enter the string : Manish\n",
      "Please Enter the index : 4\n",
      "The Updated string :  Manih\n"
     ]
    }
   ],
   "source": [
    "#Q2. Write a Python program for removing i-th character from a string.\n",
    "\n",
    "def remove_character(a,b): \n",
    "  \n",
    "    for i in range(len(a)):\n",
    "        if i == b:\n",
    "            a = a.replace(a[b], \"\", 1)\n",
    "    return a      \n",
    "\n",
    "a = input(\"Please Enter the string : \")\n",
    "b = int(input(\"Please Enter the index : \"))      \n",
    "\n",
    "# Print the new string\n",
    "\n",
    "print(\"The Updated string : \", remove_character(a, b))"
   ]
  },
  {
   "cell_type": "code",
   "execution_count": 26,
   "metadata": {},
   "outputs": [
    {
     "name": "stdout",
     "output_type": "stream",
     "text": [
      "Please Enter the string: i am a part of full stack batch.\n",
      "\n",
      "Spliting a string :  ['i', 'am', 'a', 'part', 'of', 'full', 'stack', 'batch.']\n",
      "Joining a string :  i_am_a_part_of_full_stack_batch.\n"
     ]
    }
   ],
   "source": [
    "#Q3. Write a Python program to split and join a string.\n",
    "\n",
    "a = input(\"Please Enter the string: \")\n",
    "a = a.split(\" \") # a is converted into list of strings. \n",
    "print(\"\\nSpliting a string : \",a)\n",
    "\n",
    "\n",
    "b = \"_\".join(a)\n",
    "print(\"Joining a string : \",b)"
   ]
  },
  {
   "cell_type": "code",
   "execution_count": 32,
   "metadata": {},
   "outputs": [
    {
     "name": "stdout",
     "output_type": "stream",
     "text": [
      "Enter the string : 1010101\n",
      "Its a Binary\n"
     ]
    }
   ],
   "source": [
    "#Q4. Write a Python to check if a given string is binary string or not.\n",
    "\n",
    "def checkBinary(a):\n",
    "    binary = '01'\n",
    "    for i in range(len(a)):\n",
    "        if a[i] not in binary:\n",
    "            print('Not Binary')\n",
    "            break\n",
    "    else:\n",
    "        print('Its a Binary')\n",
    "        \n",
    "a = input(\"Enter the string : \")\n",
    "checkBinary(a)"
   ]
  },
  {
   "cell_type": "code",
   "execution_count": 34,
   "metadata": {},
   "outputs": [
    {
     "name": "stdout",
     "output_type": "stream",
     "text": [
      "Enter the string x : iNeuron full stack\n",
      "Enter the string y : iNeuron data science\n",
      "\n",
      "The list of Un-Common words :   full stack data science\n"
     ]
    }
   ],
   "source": [
    "#Q5. Write a Python program to find uncommon words from two Strings\n",
    "\n",
    "def unCommon(x,y):\n",
    "    list_x = x.split()\n",
    "    list_y = y.split()\n",
    "    unCom =''\n",
    "    \n",
    "    for i in list_x:\n",
    "        if i not in list_y:\n",
    "            unCom = unCom +\" \"+ i\n",
    "    for j in list_y:\n",
    "        if j not in list_x:\n",
    "            unCom = unCom +\" \"+ j\n",
    "    return unCom\n",
    "\n",
    "x = input(\"Enter the string x : \").lower()\n",
    "y = input(\"Enter the string y : \").lower()\n",
    "\n",
    "print(\"\\nThe list of Un-Common words : \", unCommon(x,y))"
   ]
  },
  {
   "cell_type": "code",
   "execution_count": 36,
   "metadata": {},
   "outputs": [
    {
     "name": "stdout",
     "output_type": "stream",
     "text": [
      "Please Enter the string a : Manish Kumar\n",
      "The Duplicate strings are: ['m', 'a']\n"
     ]
    }
   ],
   "source": [
    "#Q6. Write a Python to find all duplicate characters in string.\n",
    "\n",
    "a = input(\"Please Enter the string a : \").lower()\n",
    "duplicate = []\n",
    "\n",
    "for i in a:\n",
    "    if a.count(i) > 1 :\n",
    "        if i not in duplicate:\n",
    "            duplicate.append(i)\n",
    "        \n",
    "print(\"The Duplicate strings are:\" , duplicate)"
   ]
  },
  {
   "cell_type": "code",
   "execution_count": 39,
   "metadata": {},
   "outputs": [
    {
     "name": "stdout",
     "output_type": "stream",
     "text": [
      "Enter the string a : Thanks!\n",
      "String: thanks! has special charecters : ['!']\n"
     ]
    }
   ],
   "source": [
    "#Q7. Write a Python Program to check if a string contains any special character\n",
    "\n",
    "import string\n",
    "\n",
    "string_char = string.punctuation\n",
    "spChar = []\n",
    "\n",
    "a = input(\"Enter the string a : \").lower()\n",
    "for i in a:\n",
    "    if i in string_char:\n",
    "        spChar.append(i)\n",
    "if len(spChar) > 0:\n",
    "    print(\"String: {} has special charecters : {}\".format(a,spChar))\n"
   ]
  },
  {
   "cell_type": "code",
   "execution_count": null,
   "metadata": {},
   "outputs": [],
   "source": []
  }
 ],
 "metadata": {
  "kernelspec": {
   "display_name": "Python 3",
   "language": "python",
   "name": "python3"
  },
  "language_info": {
   "codemirror_mode": {
    "name": "ipython",
    "version": 3
   },
   "file_extension": ".py",
   "mimetype": "text/x-python",
   "name": "python",
   "nbconvert_exporter": "python",
   "pygments_lexer": "ipython3",
   "version": "3.8.5"
  }
 },
 "nbformat": 4,
 "nbformat_minor": 4
}
