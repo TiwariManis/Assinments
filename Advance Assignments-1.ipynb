{
 "cells": [
  {
   "cell_type": "markdown",
   "metadata": {},
   "source": [
    "# Advance Assignments-1"
   ]
  },
  {
   "cell_type": "markdown",
   "metadata": {},
   "source": [
    "#Q1. What is the purpose of Python's OOP?\n",
    "\n",
    ":- Object-oriented programming is a method of structuring a program by \n",
    "bundling related properties and behaviors into individual\n",
    "objects. "
   ]
  },
  {
   "cell_type": "markdown",
   "metadata": {},
   "source": [
    "#Q2. Where does an inheritance search look for an attribute?\n",
    "\n",
    ":- . Every time you use an expression of the form object.attr \n",
    "    where object is an instance or class object, Python \n",
    "    searches the namespace tree at and above object, for the first\n",
    "    attr it can find. Because lower definitions in the tree override higher ones, inheritance forms the basis of specialization"
   ]
  },
  {
   "cell_type": "markdown",
   "metadata": {},
   "source": [
    "#Q3. How do you distinguish between a class object and an instance object?\n",
    "\n",
    ":- class: A class is a template for creating objects in program.\n",
    "    class is a logical entity\n",
    "    \n",
    " Object:  object is an instance of a class and it is a physical entity."
   ]
  },
  {
   "cell_type": "markdown",
   "metadata": {},
   "source": [
    "#Q4. What makes the first argument in a class’s method function special?\n",
    "\n",
    ":-special first argument, self, that provides a handle back to \n",
    "  the instance to be processed. Methods with two underscores at the start and end of names are special methods"
   ]
  },
  {
   "cell_type": "markdown",
   "metadata": {},
   "source": [
    "#Q5. What is the purpose of the __init__ method?\n",
    "\n",
    ":- \"__init__\" is a reseved method in python classes. \n",
    "    It is called as a constructor in object oriented \n",
    "    terminology. This method is called when an object is created from a class and it allows the class to initialize the attributes of the class"
   ]
  },
  {
   "cell_type": "markdown",
   "metadata": {},
   "source": [
    "#Q6. What is the process for creating a class instance?\n",
    "\n",
    ":- When you create an object, you are creating an instance of a class. \n",
    "   therefore \"instantiating\" a class. The name of the constructor provides \n",
    "   the name of the class to instantiate. The constructor initializes the new object"
   ]
  },
  {
   "cell_type": "markdown",
   "metadata": {},
   "source": [
    "#Q7. What is the process for creating a class?\n",
    "\n",
    ":- 1. use the keyword class.\n",
    "   2. The self Parameter.\n",
    "   3. Add an object within the code. Next, you must define the object within the class. \n",
    "      Define _inIt_() function.\n",
    "  "
   ]
  },
  {
   "cell_type": "markdown",
   "metadata": {},
   "source": [
    "#Q8. How would you define the superclasses of a class?\n",
    "\n",
    ":- The class from which a class inherits is called the parent or superclass.\n",
    "    inherits from a superclass is called a subclass, also called heir class or child class"
   ]
  },
  {
   "cell_type": "code",
   "execution_count": null,
   "metadata": {},
   "outputs": [],
   "source": []
  }
 ],
 "metadata": {
  "kernelspec": {
   "display_name": "Python 3",
   "language": "python",
   "name": "python3"
  },
  "language_info": {
   "codemirror_mode": {
    "name": "ipython",
    "version": 3
   },
   "file_extension": ".py",
   "mimetype": "text/x-python",
   "name": "python",
   "nbconvert_exporter": "python",
   "pygments_lexer": "ipython3",
   "version": "3.8.5"
  }
 },
 "nbformat": 4,
 "nbformat_minor": 4
}
