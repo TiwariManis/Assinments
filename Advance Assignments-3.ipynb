{
 "cells": [
  {
   "cell_type": "markdown",
   "metadata": {},
   "source": [
    "# Advance Assignments-3"
   ]
  },
  {
   "cell_type": "markdown",
   "metadata": {},
   "source": [
    "#Q1. What is the concept of an abstract superclass?\n",
    "\n",
    ":- A common superclass for several subclasses. Factor up common behavior. Define the methods they all respond to. Methods that subclasses should implement are declared abstract"
   ]
  },
  {
   "cell_type": "markdown",
   "metadata": {},
   "source": [
    "#Q2. What happens when a class statement's top level contains a basic assignment statement?\n",
    "\n",
    ":- an assignment statement sets and/or re-sets the value stored in the storage location(s) denoted by a variable name; in other words, it copies a value into the variable. In most imperative programming languages, the assignment statement (or expression) is a fundamental construct"
   ]
  },
  {
   "cell_type": "markdown",
   "metadata": {},
   "source": [
    "#Q3. Why does a class need to manually call a superclass's __init__ method?\n",
    "\n",
    ":- when you want to use old classes in that case need to manually call the super class __init__ method.\n",
    "    \n",
    "for ex:-\n",
    "\n",
    "class A:\n",
    "    \n",
    "class B(A):\n",
    "    def __init__(self, p1, p2):\n",
    "        A.__init__(p1, p2)"
   ]
  },
  {
   "cell_type": "code",
   "execution_count": null,
   "metadata": {},
   "outputs": [],
   "source": [
    "#Q4. How can you augment, instead of completely replacing, an inherited method?\n",
    "\n",
    "# See below example: \n",
    "        \n",
    "class Spam:\n",
    "    \n",
    "    def update(self):\n",
    "        print('updating spam!')\n",
    "\n",
    "class SpamLite(Spam):\n",
    "    \n",
    "    def update(self):\n",
    "        print('this spam is lite!')\n",
    "        Spam.update(self)"
   ]
  },
  {
   "cell_type": "markdown",
   "metadata": {},
   "source": [
    "#Q5. How is the local scope of a class different from that of a function?\n",
    "\n",
    "\n",
    ":- A global variable is a variable that is accessible globally. A local variable is one that is only accessible to the current scope, such as temporary variables used in a single function definition"
   ]
  },
  {
   "cell_type": "code",
   "execution_count": null,
   "metadata": {},
   "outputs": [],
   "source": []
  }
 ],
 "metadata": {
  "kernelspec": {
   "display_name": "Python 3",
   "language": "python",
   "name": "python3"
  },
  "language_info": {
   "codemirror_mode": {
    "name": "ipython",
    "version": 3
   },
   "file_extension": ".py",
   "mimetype": "text/x-python",
   "name": "python",
   "nbconvert_exporter": "python",
   "pygments_lexer": "ipython3",
   "version": "3.8.5"
  }
 },
 "nbformat": 4,
 "nbformat_minor": 4
}
