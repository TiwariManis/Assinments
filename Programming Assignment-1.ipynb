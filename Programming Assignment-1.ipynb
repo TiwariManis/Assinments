{
 "cells": [
  {
   "cell_type": "markdown",
   "metadata": {},
   "source": [
    "# Programming Assignment_1"
   ]
  },
  {
   "cell_type": "code",
   "execution_count": 1,
   "metadata": {},
   "outputs": [
    {
     "name": "stdout",
     "output_type": "stream",
     "text": [
      "Hello Python\n"
     ]
    }
   ],
   "source": [
    "#Q1.\n",
    "\n",
    "print (\"Hello Python\")"
   ]
  },
  {
   "cell_type": "code",
   "execution_count": 2,
   "metadata": {},
   "outputs": [
    {
     "name": "stdout",
     "output_type": "stream",
     "text": [
      "The sum of 200 and 100 is 300.0\n",
      "The division of 200and 100 is 2.0\n"
     ]
    }
   ],
   "source": [
    "#Q2.\n",
    "\n",
    "num  = 200\n",
    "num1 = 100\n",
    "\n",
    "# addition of two numbers.\n",
    "\n",
    "sum = float(num) + float(num1)\n",
    "\n",
    "#Division of two numbers.\n",
    "\n",
    "div = float(num) / float(num1)\n",
    "\n",
    "print('The sum of {0} and {1} is {2}'. format(num,num1,sum))\n",
    "print('The division of {0}and {1} is {2}'. format(num,num1,div))"
   ]
  },
  {
   "cell_type": "code",
   "execution_count": 3,
   "metadata": {},
   "outputs": [
    {
     "name": "stdout",
     "output_type": "stream",
     "text": [
      "enter first side:3\n",
      "enter second side:4\n",
      "enter third side:5\n",
      "The area of the triangle is 6.00\n"
     ]
    }
   ],
   "source": [
    "#Q3.\n",
    "\n",
    "# Three sides of triangle are m,n and o.\n",
    "\n",
    "m= float(input('enter first side:'))\n",
    "n= float(input('enter second side:'))\n",
    "o= float(input('enter third side:'))\n",
    "\n",
    "#calculate the semi-perimeter\n",
    "s = (m+n+o) / 2\n",
    "\n",
    "# calculate the area\n",
    "\n",
    "area = (s*(s-m)*(s-n)*(s-o)) ** 0.5\n",
    "\n",
    "print('The area of the triangle is %0.2f' %area)"
   ]
  },
  {
   "cell_type": "code",
   "execution_count": 5,
   "metadata": {},
   "outputs": [
    {
     "name": "stdout",
     "output_type": "stream",
     "text": [
      "150\n",
      "100\n"
     ]
    }
   ],
   "source": [
    "#Q4.\n",
    "\n",
    "num1 = 100\n",
    "num2 = 150\n",
    "\n",
    "temp = num1\n",
    "num1 = num2\n",
    "num2 = temp\n",
    "\n",
    "print(num1)\n",
    "print(num2)\n"
   ]
  },
  {
   "cell_type": "code",
   "execution_count": 10,
   "metadata": {},
   "outputs": [
    {
     "name": "stdout",
     "output_type": "stream",
     "text": [
      "6\n"
     ]
    }
   ],
   "source": [
    "#Q5.\n",
    "\n",
    "print(random.randint(0,10))"
   ]
  },
  {
   "cell_type": "code",
   "execution_count": null,
   "metadata": {},
   "outputs": [],
   "source": []
  }
 ],
 "metadata": {
  "kernelspec": {
   "display_name": "Python 3",
   "language": "python",
   "name": "python3"
  },
  "language_info": {
   "codemirror_mode": {
    "name": "ipython",
    "version": 3
   },
   "file_extension": ".py",
   "mimetype": "text/x-python",
   "name": "python",
   "nbconvert_exporter": "python",
   "pygments_lexer": "ipython3",
   "version": "3.8.5"
  }
 },
 "nbformat": 4,
 "nbformat_minor": 4
}
