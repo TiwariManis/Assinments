{
 "cells": [
  {
   "cell_type": "markdown",
   "metadata": {},
   "source": [
    "# Programming Assignment-7"
   ]
  },
  {
   "cell_type": "code",
   "execution_count": 12,
   "metadata": {},
   "outputs": [
    {
     "name": "stdout",
     "output_type": "stream",
     "text": [
      "The sum of all the array elemnts is : 49\n"
     ]
    }
   ],
   "source": [
    "#Q1. Write a Python Program to find sum of array\n",
    "\n",
    "Array = [4,5,6,7,8,9,10]\n",
    "\n",
    "sum = 0\n",
    "\n",
    "for i in range(0,len(Array)):\n",
    "    sum += Array[i]\n",
    "    \n",
    "print(\"The sum of all the array elemnts is :\" , sum)"
   ]
  },
  {
   "cell_type": "code",
   "execution_count": 32,
   "metadata": {},
   "outputs": [
    {
     "name": "stdout",
     "output_type": "stream",
     "text": [
      "Largest in the given array is: 98\n"
     ]
    }
   ],
   "source": [
    "#Q2. Write a Python Program to find largest element in an array.\n",
    "\n",
    "def largest(arr,n):\n",
    "    max = arr[0]\n",
    "    for i in range(1, n):\n",
    "        if arr[i] > max:\n",
    "            max = arr[i]\n",
    "    return max\n",
    "arr = [10, 24, 45, 90, 98]\n",
    "n = len(arr)\n",
    "Ans = largest(arr,n)\n",
    "print (\"Largest in the given array is:\",Ans)"
   ]
  },
  {
   "cell_type": "code",
   "execution_count": 6,
   "metadata": {},
   "outputs": [
    {
     "name": "stdout",
     "output_type": "stream",
     "text": [
      "Array Before rotation: \n",
      "12 13 14 15 26 32 \n",
      " Array after Right rotation\n",
      "26 32 12 13 14 15 "
     ]
    }
   ],
   "source": [
    "#Q3. Write a Python Program for array rotation.\n",
    "\n",
    "array = [12,13,14,15,26,32]\n",
    "\n",
    "# number of rotation to be performed\n",
    "shift = 2\n",
    "\n",
    "def Array_rotation(num_Array, shift):\n",
    "    for i in range(0,shift):\n",
    "        temp = num_Array[len(num_Array)-1]\n",
    "        \n",
    "        for j in range(len(num_Array) -1, 0, -1):\n",
    "            num_Array[j]= num_Array[j-1]\n",
    "            \n",
    "        num_Array[0] = temp\n",
    "        \n",
    "    return num_Array\n",
    "\n",
    "def printArray(array):\n",
    "    for i in range(0, len(array)):\n",
    "        print(array[i], end=' ')\n",
    "\n",
    "print(\"Array Before rotation: \")        \n",
    "printArray(array)\n",
    "\n",
    "rotated_array = Array_rotation(array,shift)\n",
    "print(\"\\n Array after Right rotation\")\n",
    "printArray(rotated_array)\n"
   ]
  },
  {
   "cell_type": "code",
   "execution_count": 22,
   "metadata": {},
   "outputs": [
    {
     "name": "stdout",
     "output_type": "stream",
     "text": [
      "The list is : [10, 11, 12, 13, 14, 15]\n",
      "The split_list method is being called\n",
      "11\n",
      "12\n",
      "13\n",
      "14\n",
      "15\n",
      "10\n"
     ]
    }
   ],
   "source": [
    "#Q4. Write a Python Program to Split the array and add the first part to the end\n",
    "\n",
    "lst = [10,11,12,13,14,15]\n",
    "\n",
    "def split_list(lst, n_val, k_val):\n",
    "    for i in range(0, k_val):\n",
    "        first_val = lst[0]\n",
    "    for k in range(0, n_val-1):\n",
    "        lst[k] = lst[k + 1]\n",
    "    lst[n_val-1] = first_val\n",
    "\n",
    "list_len = len(lst)\n",
    "pos = 2\n",
    "print(\"The list is :\", lst)\n",
    "\n",
    "print(\"The split_list method is being called\")\n",
    "\n",
    "split_list(lst, list_len, pos)\n",
    "for i in range(0, list_len):\n",
    "    print(lst[i])\n"
   ]
  },
  {
   "cell_type": "code",
   "execution_count": 23,
   "metadata": {},
   "outputs": [
    {
     "name": "stdout",
     "output_type": "stream",
     "text": [
      "True\n"
     ]
    }
   ],
   "source": [
    "#Q5.Write a Python Program to check if given array is Monotonic.\n",
    "\n",
    "\n",
    "A = [1,2,3,4,7,8]\n",
    "\n",
    "\n",
    "def Check_Monotonic(A):\n",
    "    return (all(A[i] <= A[i + 1] for i in range(len(A) - 1)) or\n",
    "      all(A[i] >= A[i + 1] for i in range(len(A) - 1)))\n",
    "\n",
    "\n",
    "print(Check_Monotonic(A))"
   ]
  },
  {
   "cell_type": "code",
   "execution_count": null,
   "metadata": {},
   "outputs": [],
   "source": []
  }
 ],
 "metadata": {
  "kernelspec": {
   "display_name": "Python 3",
   "language": "python",
   "name": "python3"
  },
  "language_info": {
   "codemirror_mode": {
    "name": "ipython",
    "version": 3
   },
   "file_extension": ".py",
   "mimetype": "text/x-python",
   "name": "python",
   "nbconvert_exporter": "python",
   "pygments_lexer": "ipython3",
   "version": "3.8.5"
  }
 },
 "nbformat": 4,
 "nbformat_minor": 4
}
