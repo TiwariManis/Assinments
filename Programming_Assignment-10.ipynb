{
 "cells": [
  {
   "cell_type": "markdown",
   "metadata": {},
   "source": [
    "# Programming_Assignment-10"
   ]
  },
  {
   "cell_type": "code",
   "execution_count": 6,
   "metadata": {},
   "outputs": [
    {
     "name": "stdout",
     "output_type": "stream",
     "text": [
      "Sum of all the number in list is : 100\n"
     ]
    }
   ],
   "source": [
    "#Q1. Write a Python program to find sum of elements in list.\n",
    "Sum = 0\n",
    "\n",
    "lst = [10,20,30,40]\n",
    "for i in range(0,len(lst)):\n",
    "    Sum = Sum + lst[i]\n",
    "    \n",
    "print(\"Sum of all the number in list is :\", Sum)"
   ]
  },
  {
   "cell_type": "code",
   "execution_count": 10,
   "metadata": {},
   "outputs": [
    {
     "name": "stdout",
     "output_type": "stream",
     "text": [
      "Multiply of all the number in list is: 120\n"
     ]
    }
   ],
   "source": [
    "#Q2. Write a Python program to Multiply all numbers in the list\n",
    "\n",
    "mul = 1\n",
    "\n",
    "lst = [2,3,4,5]\n",
    "\n",
    "for i in range(0,len(lst)):\n",
    "    mul = mul * lst[i]\n",
    "print(\"Multiply of all the number in list is:\", mul)"
   ]
  },
  {
   "cell_type": "code",
   "execution_count": 13,
   "metadata": {},
   "outputs": [
    {
     "name": "stdout",
     "output_type": "stream",
     "text": [
      "The smallest number from the list is : 36\n"
     ]
    }
   ],
   "source": [
    "#Q3. Write a Python program to find smallest number in a list\n",
    "\n",
    "list1 = [43,56,36,78,99]\n",
    "\n",
    "list1.sort()\n",
    "\n",
    "print(\"The smallest number from the list is :\", list1[0])"
   ]
  },
  {
   "cell_type": "code",
   "execution_count": null,
   "metadata": {},
   "outputs": [],
   "source": [
    "#Q4. Write a Python program to find largest number in a list\n",
    "\n",
    "lst =[]\n",
    "\n",
    "num = int(input(\"Enter the number of elemnts in list\"))\n",
    "\n",
    "for i in range(1,num+1):\n",
    "    element = int(input(\"Enter the number\")\n",
    "    lst.append(element)\n",
    "              \n",
    "print(\"The largest number in list is : \", max(list2))"
   ]
  },
  {
   "cell_type": "code",
   "execution_count": 5,
   "metadata": {},
   "outputs": [
    {
     "name": "stdout",
     "output_type": "stream",
     "text": [
      "The second largest number form the list is:  30\n"
     ]
    }
   ],
   "source": [
    "#Q5. Write a Python program to find second largest number in a list\n",
    "\n",
    "test = [10,20,30,13,15,49]\n",
    "\n",
    "test.sort()\n",
    "print(\"The second largest number form the list is: \", test[-2])"
   ]
  },
  {
   "cell_type": "code",
   "execution_count": 14,
   "metadata": {},
   "outputs": [
    {
     "name": "stdout",
     "output_type": "stream",
     "text": [
      "Largest numbers are  [100, 85]\n"
     ]
    }
   ],
   "source": [
    "#Q6. Write a Python program to find N largest elements from a list?\n",
    "\n",
    "\n",
    "\n",
    "\n",
    "def Nnumberele(list1, N):\n",
    "    new_list = []\n",
    "    for i in range(0, N):\n",
    "        max1 = 0\n",
    "        for j in range(len(list1)):\n",
    "            if list1[j] > max1:\n",
    "                max1 = list1[j]\n",
    "        list1.remove(max1)\n",
    "        new_list.append(max1)\n",
    "            \n",
    "    print(\"Largest numbers are \",new_list)\n",
    "        \n",
    "my_list = [12, 61, 41, 85, 40, 13, 77, 65, 100]\n",
    "N = 2      \n",
    "\n",
    "Nnumberele(my_list, N)"
   ]
  },
  {
   "cell_type": "code",
   "execution_count": 15,
   "metadata": {},
   "outputs": [
    {
     "name": "stdout",
     "output_type": "stream",
     "text": [
      "10 is a even Number\n",
      "23 is not a even Number\n",
      "13 is not a even Number\n",
      "15 is not a even Number\n",
      "24 is a even Number\n",
      "44 is a even Number\n",
      "55 is not a even Number\n",
      "88 is a even Number\n",
      "68 is a even Number\n"
     ]
    }
   ],
   "source": [
    "#Q7. Write a Python program to print even numbers in a list\n",
    "\n",
    "list_num = [10,23,13,15,24,44,55,88,68]\n",
    "\n",
    "for num in list_num:\n",
    "    if num % 2 == 0:\n",
    "        print(num, \"is a even Number\")\n",
    "    else:\n",
    "        print(num, \"is not a even Number\")\n"
   ]
  },
  {
   "cell_type": "code",
   "execution_count": 16,
   "metadata": {},
   "outputs": [
    {
     "name": "stdout",
     "output_type": "stream",
     "text": [
      "10 is not a odd number\n",
      "23 is a odd number\n",
      "13 is a odd number\n",
      "15 is a odd number\n",
      "24 is not a odd number\n",
      "44 is not a odd number\n",
      "55 is a odd number\n",
      "88 is not a odd number\n",
      "68 is not a odd number\n"
     ]
    }
   ],
   "source": [
    "#Q8. Write a Python program to print odd numbers in a List.\n",
    "\n",
    "list_odd = [10,23,13,15,24,44,55,88,68]\n",
    "\n",
    "for num in list_odd:\n",
    "    if num % 2 != 0:\n",
    "        print(num, \"is a odd number\")\n",
    "    else:\n",
    "        print(num, \"is not a odd number\")"
   ]
  },
  {
   "cell_type": "code",
   "execution_count": 21,
   "metadata": {},
   "outputs": [
    {
     "name": "stdout",
     "output_type": "stream",
     "text": [
      "List after the removal of empty list:  [12, 34, 65, 2]\n"
     ]
    }
   ],
   "source": [
    "#Q9. Write a Python program to Remove empty List from List.\n",
    "\n",
    "new_list = [12,34,65,[],[],2,[]]\n",
    "\n",
    "updated_list = []\n",
    "\n",
    "updated_list = list(filter(None,new_list))\n",
    "\n",
    "\n",
    "print(\"List after the removal of empty list: \", updated_list)"
   ]
  },
  {
   "cell_type": "code",
   "execution_count": 22,
   "metadata": {},
   "outputs": [
    {
     "name": "stdout",
     "output_type": "stream",
     "text": [
      "List after cloning:  [3, 4, 5, 6, 7]\n"
     ]
    }
   ],
   "source": [
    "#Q10. Write a Python program to Cloning or Copying a list.\n",
    "\n",
    "def Cloning(lst1):\n",
    "    lst_copy = []\n",
    "    \n",
    "    for item in lst1:\n",
    "        lst_copy.append(item)\n",
    "    return lst_copy\n",
    "\n",
    "lst1 = [3,4,5,6,7]\n",
    "\n",
    "new_list = Cloning(lst1)\n",
    "\n",
    "print(\"List after cloning: \", new_list)"
   ]
  },
  {
   "cell_type": "code",
   "execution_count": 25,
   "metadata": {},
   "outputs": [
    {
     "name": "stdout",
     "output_type": "stream",
     "text": [
      "The number of times element is present in list is :  2\n"
     ]
    }
   ],
   "source": [
    "#Q11. Write a Python program to Count occurrences of an element in a list\n",
    "\n",
    "from collections import Counter\n",
    "\n",
    "Alist = [\"Jan\",\"Feb\",\"Jan\",\"march\",\"Feb\"]\n",
    "\n",
    "element = \"Jan\"\n",
    "\n",
    "count = Counter(Alist)\n",
    "\n",
    "result = count[element]\n",
    "\n",
    "print(\"The number of times element is present in list is : \", result)\n"
   ]
  },
  {
   "cell_type": "code",
   "execution_count": null,
   "metadata": {},
   "outputs": [],
   "source": []
  }
 ],
 "metadata": {
  "kernelspec": {
   "display_name": "Python 3",
   "language": "python",
   "name": "python3"
  },
  "language_info": {
   "codemirror_mode": {
    "name": "ipython",
    "version": 3
   },
   "file_extension": ".py",
   "mimetype": "text/x-python",
   "name": "python",
   "nbconvert_exporter": "python",
   "pygments_lexer": "ipython3",
   "version": "3.8.5"
  }
 },
 "nbformat": 4,
 "nbformat_minor": 4
}
