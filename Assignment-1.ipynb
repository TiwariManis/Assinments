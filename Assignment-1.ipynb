{
 "cells": [
  {
   "cell_type": "markdown",
   "metadata": {},
   "source": [
    "1. Operators compares the value of two objects.\n",
    "\n",
    "* : multiplies two numbers\n",
    "'hello' ; \n",
    "-87.8 : value\n",
    "- : for substraction\n",
    "/ : Integral division\n",
    "+ : for addition\n",
    "6 : value"
   ]
  },
  {
   "cell_type": "markdown",
   "metadata": {},
   "source": [
    "2. A variable is store of info,and string is type of info you would store in a variable.\n",
    "\n",
    "   A string is usually words.\n",
    "    \n",
    "    for EX: x = \"my name is manish\"\n",
    "         where x = variable\n",
    "            "
   ]
  },
  {
   "cell_type": "markdown",
   "metadata": {},
   "source": [
    "3.(i) integer : +ve or -ve whole numbers are intregers.\n",
    "    EX: 10, 20 ,-100 etc..\n",
    "        \n",
    "        \n",
    "  (ii) Floating point number: Any number with floating point.\n",
    "     it is use to repersent the real number and it is written with decimal \n",
    "        point dividing the integer and fractinal part.\n",
    "        \n",
    "    EX: 50.23, 32.3+e18.\n",
    "        \n",
    " (iii) complex number : An extension of the familiar real number system in \n",
    "       which all the numbers are expressed as the sum of real number part and \n",
    "        imaginary part.\n",
    "                         the imaginary part is written with letter \"j\" suffix.\n",
    "            \n",
    "        EX: 3+1j\n",
    "            \n",
    "    \n",
    "           "
   ]
  },
  {
   "cell_type": "markdown",
   "metadata": {},
   "source": [
    "4. Sequence of operands and operators are called expression.\n",
    "\n",
    " EX; a+b-5\n",
    "    \n"
   ]
  },
  {
   "cell_type": "markdown",
   "metadata": {},
   "source": [
    "5. declaring and variables means binding to a data type.\n",
    "   a function can be declare any number of times.\n",
    "   where as an expression just returns some values can not change\n",
    "   the local or global state."
   ]
  },
  {
   "cell_type": "markdown",
   "metadata": {},
   "source": [
    "6. 23"
   ]
  },
  {
   "cell_type": "markdown",
   "metadata": {},
   "source": [
    "7. (i):  'spamspamspam'\n",
    "   (ii): 'spamspamspam'"
   ]
  },
  {
   "cell_type": "markdown",
   "metadata": {},
   "source": [
    "8. eggs = false\n",
    "   "
   ]
  },
  {
   "cell_type": "markdown",
   "metadata": {},
   "source": [
    "9. (i) atoi() function \n",
    "  (ii) int() function\n",
    "  (iii) float() function"
   ]
  },
  {
   "cell_type": "markdown",
   "metadata": {},
   "source": [
    "10. The expression causes an error because 99 is an integer, \n",
    "    and only strings can be concatenated to other strings with \n",
    "    the '+' operator. \n",
    "    \n",
    "    The correct way is:  ' I have eaten ' + str(99) + ' burritos ''.\n",
    "        "
   ]
  }
 ],
 "metadata": {
  "kernelspec": {
   "display_name": "Python 3",
   "language": "python",
   "name": "python3"
  },
  "language_info": {
   "codemirror_mode": {
    "name": "ipython",
    "version": 3
   },
   "file_extension": ".py",
   "mimetype": "text/x-python",
   "name": "python",
   "nbconvert_exporter": "python",
   "pygments_lexer": "ipython3",
   "version": "3.8.5"
  }
 },
 "nbformat": 4,
 "nbformat_minor": 4
}
