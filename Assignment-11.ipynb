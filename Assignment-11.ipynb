{
 "cells": [
  {
   "cell_type": "markdown",
   "metadata": {},
   "source": [
    "# Assignment-11"
   ]
  },
  {
   "cell_type": "code",
   "execution_count": 10,
   "metadata": {},
   "outputs": [
    {
     "name": "stdout",
     "output_type": "stream",
     "text": [
      "Please enter the number: 1\n",
      "1 is a positive number\n"
     ]
    }
   ],
   "source": [
    "#Q 1.\n",
    "\n",
    "#Create an assert statement that throws an AssertionError if the \n",
    "#variable spam is a negative integer.\n",
    "\n",
    "a = int(input(\"Please enter the number: \"))\n",
    "\n",
    "assert a > 0\n",
    "\n",
    "if a >0:\n",
    "    print(a, 'is a positive number')\n",
    "else:\n",
    "    print(a, 'is not a positive number')"
   ]
  },
  {
   "cell_type": "code",
   "execution_count": null,
   "metadata": {},
   "outputs": [],
   "source": [
    "#Q2.\n",
    "\n",
    "\n",
    "eggs = \"Hello\"\n",
    "bacon = \"hello\"\n",
    "\n",
    "assert eggs.lower() != bacon.lower() \n",
    "assert eggs.upper() != bacon.upper()"
   ]
  },
  {
   "cell_type": "code",
   "execution_count": null,
   "metadata": {},
   "outputs": [],
   "source": [
    "#Q3.\n",
    "# Create an assert statement that throws an AssertionError every time.\n",
    "\n",
    "assert False"
   ]
  },
  {
   "cell_type": "markdown",
   "metadata": {},
   "source": [
    "#Q4.\n",
    "\n",
    "What are the two lines that must be present in your software in order to call logging.debug()?\n",
    "\n",
    ": Below are the two lines must be there while logging debug.\n",
    "    \n",
    "(i) import logging\n",
    "(ii) logging.basicConfig(level=logging.DEBUG, format=' %(asctime)s -\n",
    "%(levelname)s -  %(message)s')\n"
   ]
  },
  {
   "cell_type": "markdown",
   "metadata": {},
   "source": [
    "#Q5. \n",
    "\n",
    "What are the two lines that your program must have in order to have logging.debug() send a\n",
    "logging message to a file named programLog.txt?\n",
    "\n",
    ": Below are the two lines must be there while logging debug with file name .txt.\n",
    "\n",
    "(i) import logging \n",
    "(ii) logging.basicConfig(filename='programLog.txt', level=logging.DEBUG,\n",
    "format=' %(asctime)s -  %(levelname)s -  %(message)s')"
   ]
  },
  {
   "cell_type": "markdown",
   "metadata": {},
   "source": [
    "#Q6\n",
    "\n",
    "What are the five levels of logging?\n",
    "\n",
    ": below are the five logging levels.\n",
    "    \n",
    "DEBUG, INFO, WARNING, ERROR, and CRITICAL"
   ]
  },
  {
   "cell_type": "markdown",
   "metadata": {},
   "source": [
    "#Q7.\n",
    "\n",
    "What line of code would you add to your software to disable all logging messages?\n",
    "\n",
    ": logging.disable(logging.CRITICAL)"
   ]
  },
  {
   "cell_type": "markdown",
   "metadata": {},
   "source": [
    "#Q8.\n",
    "\n",
    "Why is using logging messages better than using print() to display the same message?\n",
    "\n",
    ":Below are the few reason.\n",
    "    \n",
    "The logger module has several levels of severity. The default logging level is warning.\n",
    "whereas Print- The only time when print() is a better option than logging is when the goal \n",
    "is to display a help statement for a command line application."
   ]
  },
  {
   "cell_type": "markdown",
   "metadata": {},
   "source": [
    "#Q9.\n",
    "\n",
    "What are the differences between the Step Over, Step In, and Step Out buttons in the debugger?\n",
    "\n",
    ": If the line does not contain a function it behaves the same as “step over\n",
    "but if it does, the debugger will enter the called function and continue line-by-line debugging there.\n",
    "\n",
    "Step out – An action to take in the debugger that returns to the line where the current function was called"
   ]
  },
  {
   "cell_type": "markdown",
   "metadata": {},
   "source": [
    "#Q10.\n",
    "\n",
    "After you click Continue, when will the debugger stop\n",
    "\n",
    ": The debugger will stop when it has reached the end of the program or a line with a breakpoint."
   ]
  },
  {
   "cell_type": "markdown",
   "metadata": {},
   "source": [
    "#Q11.\n",
    "What is the concept of a breakpoint?\n",
    "\n",
    ":To set a breakpoint in IDLE, right-click the line and select Set Breakpoint from the context menu"
   ]
  },
  {
   "cell_type": "code",
   "execution_count": null,
   "metadata": {},
   "outputs": [],
   "source": []
  }
 ],
 "metadata": {
  "kernelspec": {
   "display_name": "Python 3",
   "language": "python",
   "name": "python3"
  },
  "language_info": {
   "codemirror_mode": {
    "name": "ipython",
    "version": 3
   },
   "file_extension": ".py",
   "mimetype": "text/x-python",
   "name": "python",
   "nbconvert_exporter": "python",
   "pygments_lexer": "ipython3",
   "version": "3.8.5"
  }
 },
 "nbformat": 4,
 "nbformat_minor": 4
}
